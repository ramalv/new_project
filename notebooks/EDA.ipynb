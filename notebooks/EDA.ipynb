{
 "cells": [
  {
   "cell_type": "code",
   "execution_count": null,
   "metadata": {},
   "outputs": [],
   "source": [
    "import pandas as pd\n",
    "import plotly.express as px\n",
    "\n",
    "# Leer los datos\n",
    "car_data = pd.read_csv('vehicles_us.csv')\n",
    "\n",
    "# Crear un histograma de la columna \"odometer\"\n",
    "fig = px.histogram(car_data, x=\"odometer\", title=\"Distribución del odómetro\")\n",
    "fig.show()"
   ]
  },
  {
   "cell_type": "code",
   "execution_count": null,
   "metadata": {},
   "outputs": [],
   "source": [
    "import pandas as pd\n",
    "import plotly.express as px\n",
    "\n",
    "# Leer los datos\n",
    "car_data = pd.read_csv('vehicles_us.csv')\n",
    "\n",
    "# Crear un gráfico de dispersión entre \"odometer\" y \"price\"\n",
    "fig = px.scatter(car_data, x=\"odometer\", y=\"price\", title=\"Precio vs. Odómetro\")\n",
    "fig.show()"
   ]
  }
 ],
 "metadata": {
  "kernelspec": {
   "display_name": "new_project_env",
   "language": "python",
   "name": "python3"
  },
  "language_info": {
   "codemirror_mode": {
    "name": "ipython",
    "version": 3
   },
   "file_extension": ".py",
   "mimetype": "text/x-python",
   "name": "python",
   "nbconvert_exporter": "python",
   "pygments_lexer": "ipython3",
   "version": "3.12.1"
  }
 },
 "nbformat": 4,
 "nbformat_minor": 2
}
